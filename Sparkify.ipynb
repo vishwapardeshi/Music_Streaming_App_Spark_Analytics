{
  "nbformat": 4,
  "nbformat_minor": 0,
  "metadata": {
    "kernelspec": {
      "display_name": "Python 3",
      "language": "python",
      "name": "python3"
    },
    "language_info": {
      "codemirror_mode": {
        "name": "ipython",
        "version": 3
      },
      "file_extension": ".py",
      "mimetype": "text/x-python",
      "name": "python",
      "nbconvert_exporter": "python",
      "pygments_lexer": "ipython3",
      "version": "3.6.3"
    },
    "colab": {
      "name": "Sparkify.ipynb",
      "provenance": [],
      "toc_visible": true
    },
    "accelerator": "GPU"
  },
  "cells": [
    {
      "cell_type": "markdown",
      "metadata": {
        "id": "Cpw0tTQFwXht",
        "colab_type": "text"
      },
      "source": [
        "# Sparkify: Music Streaming App Big Data Analytics\n",
        "\n",
        "Sparkify is a fictional music streaming service. Like any product-based company, retaining existing customers is of prime importance as it is easier and cheaper to retain existing users than it is to acquire new users. Thus, here I analyze big data containing user log to perform churn analytics using feature engineering & analytics using Apache Spark Python Spark API, pySpark. \n"
      ]
    },
    {
      "cell_type": "markdown",
      "metadata": {
        "id": "BcwOESaT-Mj4",
        "colab_type": "text"
      },
      "source": [
        "# Setup Environment"
      ]
    },
    {
      "cell_type": "code",
      "metadata": {
        "id": "L0WBSSz8-Luz",
        "colab_type": "code",
        "colab": {
          "base_uri": "https://localhost:8080/",
          "height": 876
        },
        "outputId": "f2e77a6e-cc5f-4769-9dbd-3e4706bc2792"
      },
      "source": [
        "!pip install pyspark\n",
        "!pip install -U -q PyDrive\n",
        "!apt install openjdk-8-jdk-headless -qq\n",
        "import os\n",
        "os.environ[\"JAVA_HOME\"] = \"/usr/lib/jvm/java-8-openjdk-amd64\""
      ],
      "execution_count": 2,
      "outputs": [
        {
          "output_type": "stream",
          "text": [
            "Collecting pyspark\n",
            "\u001b[?25l  Downloading https://files.pythonhosted.org/packages/8e/b0/bf9020b56492281b9c9d8aae8f44ff51e1bc91b3ef5a884385cb4e389a40/pyspark-3.0.0.tar.gz (204.7MB)\n",
            "\u001b[K     |████████████████████████████████| 204.7MB 70kB/s \n",
            "\u001b[?25hCollecting py4j==0.10.9\n",
            "\u001b[?25l  Downloading https://files.pythonhosted.org/packages/9e/b6/6a4fb90cd235dc8e265a6a2067f2a2c99f0d91787f06aca4bcf7c23f3f80/py4j-0.10.9-py2.py3-none-any.whl (198kB)\n",
            "\u001b[K     |████████████████████████████████| 204kB 33.6MB/s \n",
            "\u001b[?25hBuilding wheels for collected packages: pyspark\n",
            "  Building wheel for pyspark (setup.py) ... \u001b[?25l\u001b[?25hdone\n",
            "  Created wheel for pyspark: filename=pyspark-3.0.0-py2.py3-none-any.whl size=205044182 sha256=ed69a4fe8b6904232a6dad86f005438edaaebf0b8d507c9d54016b87406e4950\n",
            "  Stored in directory: /root/.cache/pip/wheels/57/27/4d/ddacf7143f8d5b76c45c61ee2e43d9f8492fc5a8e78ebd7d37\n",
            "Successfully built pyspark\n",
            "Installing collected packages: py4j, pyspark\n",
            "Successfully installed py4j-0.10.9 pyspark-3.0.0\n",
            "The following package was automatically installed and is no longer required:\n",
            "  libnvidia-common-440\n",
            "Use 'apt autoremove' to remove it.\n",
            "The following additional packages will be installed:\n",
            "  openjdk-8-jre-headless\n",
            "Suggested packages:\n",
            "  openjdk-8-demo openjdk-8-source libnss-mdns fonts-dejavu-extra\n",
            "  fonts-ipafont-gothic fonts-ipafont-mincho fonts-wqy-microhei\n",
            "  fonts-wqy-zenhei fonts-indic\n",
            "The following NEW packages will be installed:\n",
            "  openjdk-8-jdk-headless openjdk-8-jre-headless\n",
            "0 upgraded, 2 newly installed, 0 to remove and 35 not upgraded.\n",
            "Need to get 35.8 MB of archives.\n",
            "After this operation, 140 MB of additional disk space will be used.\n",
            "Selecting previously unselected package openjdk-8-jre-headless:amd64.\n",
            "(Reading database ... 144465 files and directories currently installed.)\n",
            "Preparing to unpack .../openjdk-8-jre-headless_8u252-b09-1~18.04_amd64.deb ...\n",
            "Unpacking openjdk-8-jre-headless:amd64 (8u252-b09-1~18.04) ...\n",
            "Selecting previously unselected package openjdk-8-jdk-headless:amd64.\n",
            "Preparing to unpack .../openjdk-8-jdk-headless_8u252-b09-1~18.04_amd64.deb ...\n",
            "Unpacking openjdk-8-jdk-headless:amd64 (8u252-b09-1~18.04) ...\n",
            "Setting up openjdk-8-jre-headless:amd64 (8u252-b09-1~18.04) ...\n",
            "update-alternatives: using /usr/lib/jvm/java-8-openjdk-amd64/jre/bin/orbd to provide /usr/bin/orbd (orbd) in auto mode\n",
            "update-alternatives: using /usr/lib/jvm/java-8-openjdk-amd64/jre/bin/servertool to provide /usr/bin/servertool (servertool) in auto mode\n",
            "update-alternatives: using /usr/lib/jvm/java-8-openjdk-amd64/jre/bin/tnameserv to provide /usr/bin/tnameserv (tnameserv) in auto mode\n",
            "Setting up openjdk-8-jdk-headless:amd64 (8u252-b09-1~18.04) ...\n",
            "update-alternatives: using /usr/lib/jvm/java-8-openjdk-amd64/bin/idlj to provide /usr/bin/idlj (idlj) in auto mode\n",
            "update-alternatives: using /usr/lib/jvm/java-8-openjdk-amd64/bin/wsimport to provide /usr/bin/wsimport (wsimport) in auto mode\n",
            "update-alternatives: using /usr/lib/jvm/java-8-openjdk-amd64/bin/jsadebugd to provide /usr/bin/jsadebugd (jsadebugd) in auto mode\n",
            "update-alternatives: using /usr/lib/jvm/java-8-openjdk-amd64/bin/native2ascii to provide /usr/bin/native2ascii (native2ascii) in auto mode\n",
            "update-alternatives: using /usr/lib/jvm/java-8-openjdk-amd64/bin/javah to provide /usr/bin/javah (javah) in auto mode\n",
            "update-alternatives: using /usr/lib/jvm/java-8-openjdk-amd64/bin/clhsdb to provide /usr/bin/clhsdb (clhsdb) in auto mode\n",
            "update-alternatives: using /usr/lib/jvm/java-8-openjdk-amd64/bin/extcheck to provide /usr/bin/extcheck (extcheck) in auto mode\n",
            "update-alternatives: using /usr/lib/jvm/java-8-openjdk-amd64/bin/hsdb to provide /usr/bin/hsdb (hsdb) in auto mode\n",
            "update-alternatives: using /usr/lib/jvm/java-8-openjdk-amd64/bin/schemagen to provide /usr/bin/schemagen (schemagen) in auto mode\n",
            "update-alternatives: using /usr/lib/jvm/java-8-openjdk-amd64/bin/xjc to provide /usr/bin/xjc (xjc) in auto mode\n",
            "update-alternatives: using /usr/lib/jvm/java-8-openjdk-amd64/bin/jhat to provide /usr/bin/jhat (jhat) in auto mode\n",
            "update-alternatives: using /usr/lib/jvm/java-8-openjdk-amd64/bin/wsgen to provide /usr/bin/wsgen (wsgen) in auto mode\n"
          ],
          "name": "stdout"
        }
      ]
    },
    {
      "cell_type": "code",
      "metadata": {
        "id": "ZvHCX2EBwXh2",
        "colab_type": "code",
        "colab": {}
      },
      "source": [
        "import numpy as np\n",
        "import pandas as pd\n",
        "\n",
        "import re\n",
        "from datetime import datetime\n",
        "\n",
        "import matplotlib.pyplot as plt\n",
        "from matplotlib.ticker import PercentFormatter\n",
        "import seaborn as sns\n",
        "\n",
        "import pyspark\n",
        "from pyspark import SparkConf\n",
        "from pyspark.sql import SparkSession\n",
        "from pyspark.sql import Window\n",
        "import pyspark.sql.functions as F\n",
        "from pyspark.ml import Pipeline\n",
        "from pyspark.sql.functions import isnan, when, count, col, isnull, udf, last, first, struct, lit, approx_count_distinct\n",
        "from pyspark.sql.functions import sum as Fsum\n",
        "from pyspark.sql.functions import when as Fwhen\n",
        "from pyspark.sql.functions import lag as Flag\n",
        "from pyspark.sql.functions import isnull as Fisnull\n",
        "from pyspark.sql.types import IntegerType, DoubleType\n",
        "from pyspark.ml.feature import StringIndexer, MinMaxScaler, VectorAssembler\n",
        "from pyspark.ml.feature import VectorAssembler, StandardScaler, OneHotEncoder, StringIndexer\n",
        "from pyspark.ml.classification import LogisticRegression, GBTClassifier, RandomForestClassifier\n",
        "from pyspark.ml.classification import LogisticRegressionModel, GBTClassificationModel, RandomForestClassificationModel\n",
        "from pyspark.ml.evaluation import BinaryClassificationEvaluator\n",
        "from pyspark.ml.tuning import CrossValidator, ParamGridBuilder"
      ],
      "execution_count": 44,
      "outputs": []
    },
    {
      "cell_type": "code",
      "metadata": {
        "id": "UTSSidgwpSXc",
        "colab_type": "code",
        "colab": {
          "base_uri": "https://localhost:8080/",
          "height": 118
        },
        "outputId": "8e2bfeca-7139-4d7c-a97a-5c41b6abe368"
      },
      "source": [
        "from google.colab import drive\n",
        "drive.mount('/content/drive')"
      ],
      "execution_count": 4,
      "outputs": [
        {
          "output_type": "stream",
          "text": [
            "Go to this URL in a browser: https://accounts.google.com/o/oauth2/auth?client_id=947318989803-6bn6qk8qdgf4n4g3pfee6491hc0brc4i.apps.googleusercontent.com&redirect_uri=urn%3aietf%3awg%3aoauth%3a2.0%3aoob&response_type=code&scope=email%20https%3a%2f%2fwww.googleapis.com%2fauth%2fdocs.test%20https%3a%2f%2fwww.googleapis.com%2fauth%2fdrive%20https%3a%2f%2fwww.googleapis.com%2fauth%2fdrive.photos.readonly%20https%3a%2f%2fwww.googleapis.com%2fauth%2fpeopleapi.readonly\n",
            "\n",
            "Enter your authorization code:\n",
            "··········\n",
            "Mounted at /content/drive\n"
          ],
          "name": "stdout"
        }
      ]
    },
    {
      "cell_type": "code",
      "metadata": {
        "id": "HQybTm8JwXiW",
        "colab_type": "code",
        "colab": {}
      },
      "source": [
        "# create a Spark session\n",
        "spark = SparkSession \\\n",
        "    .builder \\\n",
        "    .appName(\"Sparkify Analytics\") \\\n",
        "    .getOrCreate()"
      ],
      "execution_count": 5,
      "outputs": []
    },
    {
      "cell_type": "markdown",
      "metadata": {
        "id": "-xJJ-pzDwXii",
        "colab_type": "text"
      },
      "source": [
        "# Load and Clean Dataset\n"
      ]
    },
    {
      "cell_type": "code",
      "metadata": {
        "id": "oU7reKPHwXil",
        "colab_type": "code",
        "colab": {
          "base_uri": "https://localhost:8080/",
          "height": 52
        },
        "outputId": "e384d739-fbf4-407a-f1e2-8647ba5cf97c"
      },
      "source": [
        "user_log = spark.read.json(\"drive/My Drive/Colab Notebooks/sparkify_event_data.json\")\n",
        "user_log.persist()"
      ],
      "execution_count": 6,
      "outputs": [
        {
          "output_type": "execute_result",
          "data": {
            "text/plain": [
              "DataFrame[artist: string, auth: string, firstName: string, gender: string, itemInSession: bigint, lastName: string, length: double, level: string, location: string, method: string, page: string, registration: bigint, sessionId: bigint, song: string, status: bigint, ts: bigint, userAgent: string, userId: string]"
            ]
          },
          "metadata": {
            "tags": []
          },
          "execution_count": 6
        }
      ]
    },
    {
      "cell_type": "code",
      "metadata": {
        "id": "fvy4SEhfwXiv",
        "colab_type": "code",
        "colab": {
          "base_uri": "https://localhost:8080/",
          "height": 32
        },
        "outputId": "3fadf3ac-d570-41da-a6a7-c9341370e0a0"
      },
      "source": [
        "print(\"The dimension of the dataframe is\", user_log.count(),\" x \", len(user_log.columns))"
      ],
      "execution_count": 7,
      "outputs": [
        {
          "output_type": "stream",
          "text": [
            "The dimension of the dataframe is 286500  x  18\n"
          ],
          "name": "stdout"
        }
      ]
    },
    {
      "cell_type": "code",
      "metadata": {
        "id": "Y9tjtIRhwXi0",
        "colab_type": "code",
        "colab": {
          "base_uri": "https://localhost:8080/",
          "height": 345
        },
        "outputId": "285fc28d-3977-4f67-cd69-7b2391ecabaa"
      },
      "source": [
        "user_log.printSchema()"
      ],
      "execution_count": 10,
      "outputs": [
        {
          "output_type": "stream",
          "text": [
            "root\n",
            " |-- artist: string (nullable = true)\n",
            " |-- auth: string (nullable = true)\n",
            " |-- firstName: string (nullable = true)\n",
            " |-- gender: string (nullable = true)\n",
            " |-- itemInSession: long (nullable = true)\n",
            " |-- lastName: string (nullable = true)\n",
            " |-- length: double (nullable = true)\n",
            " |-- level: string (nullable = true)\n",
            " |-- location: string (nullable = true)\n",
            " |-- method: string (nullable = true)\n",
            " |-- page: string (nullable = true)\n",
            " |-- registration: long (nullable = true)\n",
            " |-- sessionId: long (nullable = true)\n",
            " |-- song: string (nullable = true)\n",
            " |-- status: long (nullable = true)\n",
            " |-- ts: long (nullable = true)\n",
            " |-- userAgent: string (nullable = true)\n",
            " |-- userId: string (nullable = true)\n",
            "\n"
          ],
          "name": "stdout"
        }
      ]
    },
    {
      "cell_type": "markdown",
      "metadata": {
        "id": "z5tuEQz5z8K5",
        "colab_type": "text"
      },
      "source": [
        "## Removing NaN & Missing Values"
      ]
    },
    {
      "cell_type": "markdown",
      "metadata": {
        "id": "yj6t3imTzX0v",
        "colab_type": "text"
      },
      "source": [
        "Remove logs containing null userId or sessionId"
      ]
    },
    {
      "cell_type": "code",
      "metadata": {
        "id": "s--S916W0GyJ",
        "colab_type": "code",
        "colab": {
          "base_uri": "https://localhost:8080/",
          "height": 214
        },
        "outputId": "e0b60d87-9bec-4203-c898-da5451a3460d"
      },
      "source": [
        "# Used both isnan and isnull PySpark SQL functions as suggested at \n",
        "user_log.select([count(when(isnan(c), c)).alias(c) for c in user_log.columns]).show()\n",
        "user_log.select([count(when(isnull(c), c)).alias(c) for c in user_log.columns]).show()"
      ],
      "execution_count": 8,
      "outputs": [
        {
          "output_type": "stream",
          "text": [
            "+------+----+---------+------+-------------+--------+------+-----+--------+------+----+------------+---------+----+------+---+---------+------+\n",
            "|artist|auth|firstName|gender|itemInSession|lastName|length|level|location|method|page|registration|sessionId|song|status| ts|userAgent|userId|\n",
            "+------+----+---------+------+-------------+--------+------+-----+--------+------+----+------------+---------+----+------+---+---------+------+\n",
            "|     0|   0|        0|     0|            0|       0|     0|    0|       0|     0|   0|           0|        0|   0|     0|  0|        0|     0|\n",
            "+------+----+---------+------+-------------+--------+------+-----+--------+------+----+------------+---------+----+------+---+---------+------+\n",
            "\n",
            "+------+----+---------+------+-------------+--------+------+-----+--------+------+----+------------+---------+-----+------+---+---------+------+\n",
            "|artist|auth|firstName|gender|itemInSession|lastName|length|level|location|method|page|registration|sessionId| song|status| ts|userAgent|userId|\n",
            "+------+----+---------+------+-------------+--------+------+-----+--------+------+----+------------+---------+-----+------+---+---------+------+\n",
            "| 58392|   0|     8346|  8346|            0|    8346| 58392|    0|    8346|     0|   0|        8346|        0|58392|     0|  0|     8346|     0|\n",
            "+------+----+---------+------+-------------+--------+------+-----+--------+------+----+------------+---------+-----+------+---+---------+------+\n",
            "\n"
          ],
          "name": "stdout"
        }
      ]
    },
    {
      "cell_type": "code",
      "metadata": {
        "id": "aIVa1jlR0cmV",
        "colab_type": "code",
        "colab": {
          "base_uri": "https://localhost:8080/",
          "height": 214
        },
        "outputId": "739c00c1-3b52-42ea-cc80-eb7889055adb"
      },
      "source": [
        "# If no first name we would expect users not to be registered and hence to have no user ID\n",
        "user_log.filter(isnull(user_log.firstName)).select('registration').dropDuplicates().show()\n",
        "user_log.filter(isnull(user_log.firstName)).select('userId').dropDuplicates().show()\n"
      ],
      "execution_count": 9,
      "outputs": [
        {
          "output_type": "stream",
          "text": [
            "+------------+\n",
            "|registration|\n",
            "+------------+\n",
            "|        null|\n",
            "+------------+\n",
            "\n",
            "+------+\n",
            "|userId|\n",
            "+------+\n",
            "|      |\n",
            "+------+\n",
            "\n"
          ],
          "name": "stdout"
        }
      ]
    },
    {
      "cell_type": "markdown",
      "metadata": {
        "id": "Rx_d8XIk0kVR",
        "colab_type": "text"
      },
      "source": [
        "It turns out that there are two cases of missing values:\n",
        "8346 rows of unregistered users (the \"userId\" column is empty and there is no personal user information, i.e. first/ last name and gender available)\n",
        "\n",
        "It seems reasonable to simply drop these rows since we only care about the churn of existing users. On the other side, song data can be missing as a user might just be browsing and is ignored for our analysis."
      ]
    },
    {
      "cell_type": "code",
      "metadata": {
        "id": "a1WuQ6ZcwXi7",
        "colab_type": "code",
        "colab": {}
      },
      "source": [
        "user_log = user_log.filter((user_log.userId!=\"\") | (user_log.sessionId!=\"\"))"
      ],
      "execution_count": 10,
      "outputs": []
    },
    {
      "cell_type": "markdown",
      "metadata": {
        "id": "ODfCDh65wXjD",
        "colab_type": "text"
      },
      "source": [
        "## Exploratory Data Analysis\n"
      ]
    },
    {
      "cell_type": "markdown",
      "metadata": {
        "id": "H15OjDxI2S7G",
        "colab_type": "text"
      },
      "source": [
        "Let's see how much the data has changed post cleaning. The objective is to get a better understanding of the users the data is representing. "
      ]
    },
    {
      "cell_type": "code",
      "metadata": {
        "id": "s668lN8l11Qp",
        "colab_type": "code",
        "colab": {
          "base_uri": "https://localhost:8080/",
          "height": 49
        },
        "outputId": "e2622646-ad48-47c8-995b-11d716b0a937"
      },
      "source": [
        "num_rows = user_log.count()\n",
        "num_cols = len(user_log.columns)\n",
        "print('Number of rows: {0}\\nNumber of columns: {1}'.format(num_rows, num_cols))\n"
      ],
      "execution_count": 14,
      "outputs": [
        {
          "output_type": "stream",
          "text": [
            "Number of rows: 278154\n",
            "Number of columns: 27\n"
          ],
          "name": "stdout"
        }
      ]
    },
    {
      "cell_type": "markdown",
      "metadata": {
        "id": "HTaUFxqN2gOE",
        "colab_type": "text"
      },
      "source": [
        "We noticed that close to 10k entries were eliminated. Now, we have to find the number of interactions per user to understand how many user points are we dealing with."
      ]
    },
    {
      "cell_type": "code",
      "metadata": {
        "id": "hpbHBs6g2o3i",
        "colab_type": "code",
        "colab": {
          "base_uri": "https://localhost:8080/",
          "height": 49
        },
        "outputId": "34d56283-0393-45c8-964d-fdfa68926572"
      },
      "source": [
        "num_users = user_log.select('userId').dropDuplicates().count()\n",
        "print('Number of unique users: {0}\\nAverage number of interactions per user {1}'.format(num_users, (num_rows/num_users)))"
      ],
      "execution_count": 15,
      "outputs": [
        {
          "output_type": "stream",
          "text": [
            "Number of unique users: 225\n",
            "Average number of interactions per user 1236.24\n"
          ],
          "name": "stdout"
        }
      ]
    },
    {
      "cell_type": "markdown",
      "metadata": {
        "id": "F3SgDcPn2DO1",
        "colab_type": "text"
      },
      "source": [
        "* While there are 278,154 interactions, this data at the end represents really just data of 225 unique users.\n",
        "\n",
        "* This means that to prepare the data for modeling, we have to aggregate the user log data into one row per user. \n",
        "\n",
        "### Explore the distribution of interaction "
      ]
    },
    {
      "cell_type": "code",
      "metadata": {
        "id": "PzJDKpaK3RmQ",
        "colab_type": "code",
        "colab": {
          "base_uri": "https://localhost:8080/",
          "height": 343
        },
        "outputId": "e428f7a3-fcff-4854-bdb3-bc533b5d0e14"
      },
      "source": [
        "# Create a pandas dataframe with the distribution of the number of interactions and plot it\n",
        "interactions_df = user_log.groupBy('userId').count().toPandas()\n",
        "interactions_df.plot.hist(sns.color_palette()[0], legend = None)\n",
        "plt.xlabel('Number of Interactions')\n",
        "sns.set(style=\"ticks\")\n",
        "sns.despine(right=True,top=True)\n",
        "plt.savefig('sparkify_num_interactions.png', dpi = 300)\n",
        "print('Median number of interactions per user: {}'.format(interactions_df['count'].median()))\n",
        "print('Standard deviation of interactions per user: {}'.format(interactions_df['count'].std()))\n",
        "print('Minimum number of interactions for a single user: {}'.format(interactions_df['count'].min()))\n",
        "print('Maximum number of interactions for a single user: {}'.format(interactions_df['count'].max()))"
      ],
      "execution_count": 16,
      "outputs": [
        {
          "output_type": "stream",
          "text": [
            "Median number of interactions per user: 848.0\n",
            "Standard deviation of interactions per user: 1329.5317164325195\n",
            "Minimum number of interactions for a single user: 6\n",
            "Maximum number of interactions for a single user: 9632\n"
          ],
          "name": "stdout"
        },
        {
          "output_type": "display_data",
          "data": {
            "image/png": "[encoded data removed]",
            "text/plain": [
              "<Figure size 432x288 with 1 Axes>"
            ]
          },
          "metadata": {
            "tags": [],
            "needs_background": "light"
          }
        }
      ]
    },
    {
      "cell_type": "markdown",
      "metadata": {
        "id": "ZcqqaQJC3Yu2",
        "colab_type": "text"
      },
      "source": [
        "We can see that there is quite a lot of variability with respect to the number of interactions per user. This was probably to be expected. There will usually be some users who won't use a service too much while others may actually be power users. As long as we have at least some interactions for each user and as long as this difference in usage intensity is later on somehow reflected in our features, we will probably be fine."
      ]
    },
    {
      "cell_type": "markdown",
      "metadata": {
        "id": "XIuCuBjd1z9T",
        "colab_type": "text"
      },
      "source": [
        "\n",
        "### Define Churn\n",
        "\n",
        "Churn is defined as users who cancel the service and churn out of the service. Thus, cancellation confirmation events are used to define churn for both paid and free users.\n",
        "\n",
        "As highlighted earlier, losing customers altogether is a more severe econmoic damage as compared to downgrade of serivce. Thus, we only look at users who completely stopped using the service.\n",
        "\n",
        "Finally, strictly speaking defining churn by just accounting for users who have canceled their account will quite likely underestimate actual churn rates. There may be users who perhaps never used the paid service and who stopped using the service, but never bothered to cancel their registration. Given that the data we have here only covers about two months, it is probably not reasonable to try to cover this problem, but it is certainly a point worth keeping in mind.\n",
        "\n"
      ]
    },
    {
      "cell_type": "code",
      "metadata": {
        "id": "50ussL7G4Q53",
        "colab_type": "code",
        "colab": {}
      },
      "source": [
        "# Identify users who canceled their registration\n",
        "flag_cancel = udf(lambda x: 1 if x == 'Cancellation Confirmation' else 0, IntegerType())\n",
        "user_log = user_log.withColumn('cancel_page',flag_cancel('page'))\n",
        "windowval = Window.partitionBy('userId')\n",
        "user_log = user_log.withColumn('churned',Fsum('cancel_page').over(windowval))"
      ],
      "execution_count": 17,
      "outputs": []
    },
    {
      "cell_type": "code",
      "metadata": {
        "id": "zTLeIK4z4TwD",
        "colab_type": "code",
        "colab": {
          "base_uri": "https://localhost:8080/",
          "height": 131
        },
        "outputId": "8addd4a8-d319-4145-b8ac-a062909b0cb0"
      },
      "source": [
        "# Check if values of churned column are as expected, i.e. either 0 or 1\n",
        "user_log.select('churned').dropDuplicates().show()"
      ],
      "execution_count": 18,
      "outputs": [
        {
          "output_type": "stream",
          "text": [
            "+-------+\n",
            "|churned|\n",
            "+-------+\n",
            "|      0|\n",
            "|      1|\n",
            "+-------+\n",
            "\n"
          ],
          "name": "stdout"
        }
      ]
    },
    {
      "cell_type": "code",
      "metadata": {
        "id": "tbylj-CA4Xon",
        "colab_type": "code",
        "colab": {
          "base_uri": "https://localhost:8080/",
          "height": 49
        },
        "outputId": "2f0a8ff0-e8e7-4d7d-a231-2204950c3f8c"
      },
      "source": [
        "# Have a look at how many users have churned and how many have not\n",
        "print('Number of users who have churned {}'.\\\n",
        "      format(user_log.filter(user_log.churned == 1).select('userId').dropDuplicates().count()))\n",
        "print('Number of users who have not churned {}'.\\\n",
        "      format(user_log.filter(user_log.churned == 0).select('userId').dropDuplicates().count()))"
      ],
      "execution_count": 19,
      "outputs": [
        {
          "output_type": "stream",
          "text": [
            "Number of users who have churned 52\n",
            "Number of users who have not churned 173\n"
          ],
          "name": "stdout"
        }
      ]
    },
    {
      "cell_type": "markdown",
      "metadata": {
        "id": "lYz052wy4lPF",
        "colab_type": "text"
      },
      "source": [
        "### Explore Data: Comparing Churners & Non-Churners\n",
        "\n",
        "We can start by exploring aggregates on these two groups of users, observing how much of a specific action they experienced per a certain time unit or number of songs played."
      ]
    },
    {
      "cell_type": "markdown",
      "metadata": {
        "id": "_Ncm4KfLNDXq",
        "colab_type": "text"
      },
      "source": [
        "I decided to look at the following aggregated metrics:\n",
        "* the total number of sessions of each user\n",
        "* the average length of a user's sessions\n",
        "* the total number of unique artists a user has listened to\n",
        "* the average number of songs listened to during a session\n",
        "* the average number of songs added to a playlist\n",
        "* the average number of friends added during a session\n",
        "* the average number of thumbs ups during a session\n",
        "* users' gender\n",
        "* users' state\n",
        "* the difference between a user's date of registration and their last recorded activity as an indicator of how long they have used the service (total usage length)"
      ]
    },
    {
      "cell_type": "markdown",
      "metadata": {
        "id": "Ns6PVJjeNMjm",
        "colab_type": "text"
      },
      "source": [
        "#### Total Number of Sessions for Each User"
      ]
    },
    {
      "cell_type": "code",
      "metadata": {
        "id": "cjZL9Q7jNPia",
        "colab_type": "code",
        "colab": {
          "base_uri": "https://localhost:8080/",
          "height": 52
        },
        "outputId": "8eb399bf-45ff-4b76-c95f-3ba57d84e7e1"
      },
      "source": [
        "prev_val_window = Window.partitionBy('userId').orderBy('ts')\n",
        "user_log = user_log.withColumn('sessionId_prev',Flag(user_log.sessionId).over(prev_val_window))\n",
        "\n",
        "\n",
        "# create column 'new_session' (0 or 1)\n",
        "new_session = udf(lambda session_ids: 1 if (session_ids[0] != session_ids[1]) & (session_ids[0] is not None) else 0, \n",
        "                  IntegerType())\n",
        "# Create column indicating whether the session ID is new and also set it to 1 for the first session ID for\n",
        "# each user which is the only case where the previous session ID column will have a value of null\n",
        "user_log = user_log.withColumn('new_session',Fwhen(Fisnull(user_log.sessionId_prev), 1).\\\n",
        "                                                      otherwise(new_session(struct('sessionId_prev','sessionId'))))\n",
        "\n",
        "# Obtain total number of sessions for each user\n",
        "user_log = user_log.withColumn('sessions_num', Fsum('new_session').over(windowval))\n",
        "user_log.head()"
      ],
      "execution_count": 20,
      "outputs": [
        {
          "output_type": "execute_result",
          "data": {
            "text/plain": [
              "Row(artist='Sleeping With Sirens', auth='Logged In', firstName='Darianna', gender='F', itemInSession=0, lastName='Carpenter', length=202.97098, level='free', location='Bridgeport-Stamford-Norwalk, CT', method='PUT', page='NextSong', registration=1538016340000, sessionId=31, song='Captain Tyin Knots VS Mr Walkway (No Way)', status=200, ts=1539003534000, userAgent='\"Mozilla/5.0 (iPhone; CPU iPhone OS 7_1_2 like Mac OS X) AppleWebKit/537.51.2 (KHTML, like Gecko) Version/7.0 Mobile/11D257 Safari/9537.53\"', userId='100010', song_flag=1, home_flag=0, thumbs_up_flag=0, thumbs_down_flag=0, add_playlist_flag=0, add_friend_flag=0, settings_flag=0, help_flag=0, error_flag=0, cancel_page=0, churned=0, sessionId_prev=None, new_session=1, sessions_num=7)"
            ]
          },
          "metadata": {
            "tags": []
          },
          "execution_count": 20
        }
      ]
    },
    {
      "cell_type": "markdown",
      "metadata": {
        "id": "eZivQcEaNsb5",
        "colab_type": "text"
      },
      "source": [
        "#### Average Session Length"
      ]
    },
    {
      "cell_type": "code",
      "metadata": {
        "id": "xmnCsrL4Nus5",
        "colab_type": "code",
        "colab": {
          "base_uri": "https://localhost:8080/",
          "height": 52
        },
        "outputId": "c70071ad-eff8-4088-f06b-e66f9cd04454"
      },
      "source": [
        "# Create Column containing timestamp from previous row\n",
        "user_log = user_log.withColumn('ts_prev',Flag(user_log.ts).over(prev_val_window))\n",
        "\n",
        "\n",
        "# Calculate time elapsed since previous row in minutes using UDF only within sessions and not between them, i.e. only\n",
        "# when the session ID is not different from the previous row\n",
        "timedelta_udf = udf(lambda x: ((datetime.fromtimestamp(x[1]/1000) - datetime.fromtimestamp(x[0]/1000)).\\\n",
        "                    total_seconds()/60) if (x[0] is not None)&(x[2] != 1) else 0, DoubleType())\n",
        "user_log = user_log.withColumn('ts_delta',Fwhen(Fisnull(user_log.ts_prev), 0).\\\n",
        "                               otherwise(timedelta_udf(struct('ts_prev','ts','new_session'))))\n",
        "\n",
        "# Sum up total length of all sessions for each user\n",
        "user_log = user_log.withColumn('total_time_sessions',Fsum('ts_delta').over(windowval))\n",
        "\n",
        "# Calculate average length of sessions\n",
        "avg_time = udf(lambda x: x[0] / x[1], DoubleType())\n",
        "user_log = user_log.withColumn('avg_session_lgth', avg_time(struct('total_time_sessions','sessions_num')))\n",
        "user_log.head()"
      ],
      "execution_count": 21,
      "outputs": [
        {
          "output_type": "execute_result",
          "data": {
            "text/plain": [
              "Row(artist='Sleeping With Sirens', auth='Logged In', firstName='Darianna', gender='F', itemInSession=0, lastName='Carpenter', length=202.97098, level='free', location='Bridgeport-Stamford-Norwalk, CT', method='PUT', page='NextSong', registration=1538016340000, sessionId=31, song='Captain Tyin Knots VS Mr Walkway (No Way)', status=200, ts=1539003534000, userAgent='\"Mozilla/5.0 (iPhone; CPU iPhone OS 7_1_2 like Mac OS X) AppleWebKit/537.51.2 (KHTML, like Gecko) Version/7.0 Mobile/11D257 Safari/9537.53\"', userId='100010', song_flag=1, home_flag=0, thumbs_up_flag=0, thumbs_down_flag=0, add_playlist_flag=0, add_friend_flag=0, settings_flag=0, help_flag=0, error_flag=0, cancel_page=0, churned=0, sessionId_prev=None, new_session=1, sessions_num=7, ts_prev=None, ts_delta=0.0, total_time_sessions=1081.3833333333334, avg_session_lgth=154.48333333333335)"
            ]
          },
          "metadata": {
            "tags": []
          },
          "execution_count": 21
        }
      ]
    },
    {
      "cell_type": "markdown",
      "metadata": {
        "id": "XeXxSMOvNymo",
        "colab_type": "text"
      },
      "source": [
        "#### Average Numbers of Activity Per Session"
      ]
    },
    {
      "cell_type": "code",
      "metadata": {
        "id": "DEOB7wilN2ie",
        "colab_type": "code",
        "colab": {
          "base_uri": "https://localhost:8080/",
          "height": 52
        },
        "outputId": "8e5f1837-3e9a-4a8d-e696-dd0738b5b5e4"
      },
      "source": [
        "# Define a UDF to subsequently create a new column indicating that a user performed an activity\n",
        "flag_activity = udf(lambda column, activity: 1 if (column == activity) else 0, IntegerType())\n",
        "\n",
        "# Create list containing names of new  flag columns to be created\n",
        "flag_cols = ['song', 'home', 'thumbs_up', 'thumbs_down', 'add_playlist', 'add_friend', 'settings', 'help', 'error']\n",
        "activities_list = ['NextSong','Home', 'Thumbs Up', 'Thumbs Down', 'Add to Playlist','Add Friend', 'Settings', 'Help', 'Error']\n",
        "\n",
        "# Create the respective flag columns and calculate sums\n",
        "# to pass in parameter to udf by defining a column containing a constant value -> lit(activity)\n",
        "for activity,col_name in zip(activities_list, flag_cols):\n",
        "    user_log = user_log.withColumn(col_name+'_flag', flag_activity('page', lit(activity)))\n",
        "\n",
        "for col in flag_cols:    \n",
        "    user_log = user_log.withColumn(col+'_num', Fsum(col+'_flag').over(windowval))\n",
        "\n",
        "avg_per_session = udf(lambda numbers: numbers[0] / numbers[1], DoubleType())\n",
        "    \n",
        "for col in flag_cols:\n",
        "    user_log = user_log.withColumn(col+'_avg_session', avg_per_session(struct(col+'_num', 'sessions_num')))\n",
        "\n",
        "user_log.head()"
      ],
      "execution_count": 22,
      "outputs": [
        {
          "output_type": "execute_result",
          "data": {
            "text/plain": [
              "Row(artist='Sleeping With Sirens', auth='Logged In', firstName='Darianna', gender='F', itemInSession=0, lastName='Carpenter', length=202.97098, level='free', location='Bridgeport-Stamford-Norwalk, CT', method='PUT', page='NextSong', registration=1538016340000, sessionId=31, song='Captain Tyin Knots VS Mr Walkway (No Way)', status=200, ts=1539003534000, userAgent='\"Mozilla/5.0 (iPhone; CPU iPhone OS 7_1_2 like Mac OS X) AppleWebKit/537.51.2 (KHTML, like Gecko) Version/7.0 Mobile/11D257 Safari/9537.53\"', userId='100010', song_flag=1, home_flag=0, thumbs_up_flag=0, thumbs_down_flag=0, add_playlist_flag=0, add_friend_flag=0, settings_flag=0, help_flag=0, error_flag=0, cancel_page=0, churned=0, sessionId_prev=None, new_session=1, sessions_num=7, ts_prev=None, ts_delta=0.0, total_time_sessions=1081.3833333333334, avg_session_lgth=154.48333333333335, song_num=275, home_num=11, thumbs_up_num=17, thumbs_down_num=5, add_playlist_num=7, add_friend_num=4, settings_num=0, help_num=2, error_num=0, song_avg_session=39.285714285714285, home_avg_session=1.5714285714285714, thumbs_up_avg_session=2.4285714285714284, thumbs_down_avg_session=0.7142857142857143, add_playlist_avg_session=1.0, add_friend_avg_session=0.5714285714285714, settings_avg_session=0.0, help_avg_session=0.2857142857142857, error_avg_session=0.0)"
            ]
          },
          "metadata": {
            "tags": []
          },
          "execution_count": 22
        }
      ]
    },
    {
      "cell_type": "markdown",
      "metadata": {
        "id": "I7fiqx8iOLp9",
        "colab_type": "text"
      },
      "source": [
        "#### Total Usage Length"
      ]
    },
    {
      "cell_type": "code",
      "metadata": {
        "id": "eQNjEn5MON2A",
        "colab_type": "code",
        "colab": {
          "base_uri": "https://localhost:8080/",
          "height": 52
        },
        "outputId": "8c8f5b11-4c8a-41e2-f33c-0256d8b6ca95"
      },
      "source": [
        "window_level = Window.partitionBy(\"userId\").orderBy(\"ts\").rowsBetween(Window.unboundedPreceding, Window.unboundedFollowing)\n",
        "user_log = user_log.withColumn('last_ts',last('ts').over(window_level))\n",
        "\n",
        "# Define a UDF to calculate the difference in fractions of days between registration date and last date for which activity\n",
        "# was observed\n",
        "ts_diff_days = (lambda ts_struct: (datetime.fromtimestamp(ts_struct[1]/1000) - datetime.fromtimestamp(ts_struct[0]/1000)).\\\n",
        "                         total_seconds()/(24*3600))\n",
        "ts_diff_udf = udf(ts_diff_days, DoubleType())\n",
        "\n",
        "user_log = user_log.withColumn('usage_length',ts_diff_udf(struct('registration','last_ts')))\n",
        "user_log.head()"
      ],
      "execution_count": 24,
      "outputs": [
        {
          "output_type": "execute_result",
          "data": {
            "text/plain": [
              "Row(artist='Sleeping With Sirens', auth='Logged In', firstName='Darianna', gender='F', itemInSession=0, lastName='Carpenter', length=202.97098, level='free', location='Bridgeport-Stamford-Norwalk, CT', method='PUT', page='NextSong', registration=1538016340000, sessionId=31, song='Captain Tyin Knots VS Mr Walkway (No Way)', status=200, ts=1539003534000, userAgent='\"Mozilla/5.0 (iPhone; CPU iPhone OS 7_1_2 like Mac OS X) AppleWebKit/537.51.2 (KHTML, like Gecko) Version/7.0 Mobile/11D257 Safari/9537.53\"', userId='100010', song_flag=1, home_flag=0, thumbs_up_flag=0, thumbs_down_flag=0, add_playlist_flag=0, add_friend_flag=0, settings_flag=0, help_flag=0, error_flag=0, cancel_page=0, churned=0, sessionId_prev=None, new_session=1, sessions_num=7, ts_prev=None, ts_delta=0.0, total_time_sessions=1081.3833333333334, avg_session_lgth=154.48333333333335, song_num=275, home_num=11, thumbs_up_num=17, thumbs_down_num=5, add_playlist_num=7, add_friend_num=4, settings_num=0, help_num=2, error_num=0, song_avg_session=39.285714285714285, home_avg_session=1.5714285714285714, thumbs_up_avg_session=2.4285714285714284, thumbs_down_avg_session=0.7142857142857143, add_playlist_avg_session=1.0, add_friend_avg_session=0.5714285714285714, settings_avg_session=0.0, help_avg_session=0.2857142857142857, error_avg_session=0.0, dist_num_artists=249, last_ts=1542823952000, usage_length=55.64365740740741)"
            ]
          },
          "metadata": {
            "tags": []
          },
          "execution_count": 24
        }
      ]
    },
    {
      "cell_type": "markdown",
      "metadata": {
        "id": "yK8pnvwlOTp0",
        "colab_type": "text"
      },
      "source": [
        "#### Unique Number of Artists"
      ]
    },
    {
      "cell_type": "code",
      "metadata": {
        "id": "hifK_WBjOUth",
        "colab_type": "code",
        "colab": {
          "base_uri": "https://localhost:8080/",
          "height": 52
        },
        "outputId": "00d3fb42-1698-421f-a40e-d9fb0b354c83"
      },
      "source": [
        "user_log = user_log.withColumn('dist_num_artists', approx_count_distinct('artist').over(windowval))\n",
        "user_log.head()"
      ],
      "execution_count": 23,
      "outputs": [
        {
          "output_type": "execute_result",
          "data": {
            "text/plain": [
              "Row(artist='Sleeping With Sirens', auth='Logged In', firstName='Darianna', gender='F', itemInSession=0, lastName='Carpenter', length=202.97098, level='free', location='Bridgeport-Stamford-Norwalk, CT', method='PUT', page='NextSong', registration=1538016340000, sessionId=31, song='Captain Tyin Knots VS Mr Walkway (No Way)', status=200, ts=1539003534000, userAgent='\"Mozilla/5.0 (iPhone; CPU iPhone OS 7_1_2 like Mac OS X) AppleWebKit/537.51.2 (KHTML, like Gecko) Version/7.0 Mobile/11D257 Safari/9537.53\"', userId='100010', song_flag=1, home_flag=0, thumbs_up_flag=0, thumbs_down_flag=0, add_playlist_flag=0, add_friend_flag=0, settings_flag=0, help_flag=0, error_flag=0, cancel_page=0, churned=0, sessionId_prev=None, new_session=1, sessions_num=7, ts_prev=None, ts_delta=0.0, total_time_sessions=1081.3833333333334, avg_session_lgth=154.48333333333335, song_num=275, home_num=11, thumbs_up_num=17, thumbs_down_num=5, add_playlist_num=7, add_friend_num=4, settings_num=0, help_num=2, error_num=0, song_avg_session=39.285714285714285, home_avg_session=1.5714285714285714, thumbs_up_avg_session=2.4285714285714284, thumbs_down_avg_session=0.7142857142857143, add_playlist_avg_session=1.0, add_friend_avg_session=0.5714285714285714, settings_avg_session=0.0, help_avg_session=0.2857142857142857, error_avg_session=0.0, dist_num_artists=249)"
            ]
          },
          "metadata": {
            "tags": []
          },
          "execution_count": 23
        }
      ]
    },
    {
      "cell_type": "markdown",
      "metadata": {
        "id": "6a8n5HpROZuE",
        "colab_type": "text"
      },
      "source": [
        "#### User Location"
      ]
    },
    {
      "cell_type": "code",
      "metadata": {
        "id": "7JzRQdMFOcbc",
        "colab_type": "code",
        "colab": {
          "base_uri": "https://localhost:8080/",
          "height": 151
        },
        "outputId": "edac3a60-b08b-44a7-db09-eef75b4ee426"
      },
      "source": [
        "# Create a column containing the state a user resides in\n",
        "extract_state = udf(lambda location: location[-2:])\n",
        "user_log = user_log.withColumn('state', extract_state('location'))\n",
        "user_log = user_log.withColumn('num_states', approx_count_distinct('state').over(windowval))\n",
        "print(user_log.head())\n",
        "# Check if the number of unique values of the states is indeed just 1 for each user\n",
        "user_log.select('num_states').dropDuplicates().show()"
      ],
      "execution_count": 26,
      "outputs": [
        {
          "output_type": "stream",
          "text": [
            "Row(artist='Sleeping With Sirens', auth='Logged In', firstName='Darianna', gender='F', itemInSession=0, lastName='Carpenter', length=202.97098, level='free', location='Bridgeport-Stamford-Norwalk, CT', method='PUT', page='NextSong', registration=1538016340000, sessionId=31, song='Captain Tyin Knots VS Mr Walkway (No Way)', status=200, ts=1539003534000, userAgent='\"Mozilla/5.0 (iPhone; CPU iPhone OS 7_1_2 like Mac OS X) AppleWebKit/537.51.2 (KHTML, like Gecko) Version/7.0 Mobile/11D257 Safari/9537.53\"', userId='100010', song_flag=1, home_flag=0, thumbs_up_flag=0, thumbs_down_flag=0, add_playlist_flag=0, add_friend_flag=0, settings_flag=0, help_flag=0, error_flag=0, cancel_page=0, churned=0, sessionId_prev=None, new_session=1, sessions_num=7, ts_prev=None, ts_delta=0.0, total_time_sessions=1081.3833333333334, avg_session_lgth=154.48333333333335, song_num=275, home_num=11, thumbs_up_num=17, thumbs_down_num=5, add_playlist_num=7, add_friend_num=4, settings_num=0, help_num=2, error_num=0, song_avg_session=39.285714285714285, home_avg_session=1.5714285714285714, thumbs_up_avg_session=2.4285714285714284, thumbs_down_avg_session=0.7142857142857143, add_playlist_avg_session=1.0, add_friend_avg_session=0.5714285714285714, settings_avg_session=0.0, help_avg_session=0.2857142857142857, error_avg_session=0.0, dist_num_artists=249, last_ts=1542823952000, usage_length=55.64365740740741, state='CT', num_states=1)\n",
            "+----------+\n",
            "|num_states|\n",
            "+----------+\n",
            "|         1|\n",
            "+----------+\n",
            "\n"
          ],
          "name": "stdout"
        }
      ]
    },
    {
      "cell_type": "code",
      "metadata": {
        "id": "uQ_tU3riOlZN",
        "colab_type": "code",
        "colab": {}
      },
      "source": [
        "# Create function to make plots to compare distributions of different features across the two groups\n",
        "# y-axis labels are displayed as percentages using approach found at \n",
        "# https://stackoverflow.com/questions/51473993/plot-an-histogram-with-y-axis-as-percentage-using-funcformatter\n",
        "def plot_features(cols, num_rows, df_1, df_2, x_inc_list, y_max_list, y_inc_list, title_list):\n",
        "    '''\n",
        "    Plots histograms of features in two dataframes df_1 and df_2 from the columns defined in cols variable\n",
        "    INPUT:\n",
        "        cols - list containing columns\n",
        "        num_rows - number of rows to be used for plotting\n",
        "        df_1, df_2 - Pandas dataframes containing the relevant data\n",
        "        y_max_list - list containing maximum y value to be plotted\n",
        "        y_inc_list - list containing step size used for incrementing y-axis ticks\n",
        "        x_inc_list - list containing step size used for bucket size and as increment size of x-axis ticks\n",
        "        title_list - list containing column names for titles of plots\n",
        "    OUTPUT:\n",
        "        None - only plots histograms for selected columns\n",
        "    '''\n",
        "    # Initialise counter for subplots to 0 \n",
        "    i = 0\n",
        "    \n",
        "    # Initialise index for lists\n",
        "    j = 0\n",
        "    \n",
        "    plt.figure(figsize = (20,20))\n",
        "\n",
        "    # Use a loop to plot histograms to compare how often users who have churned and those who have not\n",
        "    # performed certain actions \n",
        "    for col in cols:\n",
        "        # Plot for first group\n",
        "        plt.subplot(num_rows, 2, i+1)\n",
        "        \n",
        "        try:\n",
        "            x_label = x_label_list[i]\n",
        "        except:\n",
        "            x_label = col\n",
        "    \n",
        "        x_max_1 = df_1[col].max() \n",
        "        x_max_2 = df_2[col].max()\n",
        "        x_max = np.max([x_max_1, x_max_2])\n",
        "        x_inc = x_inc_list[j]\n",
        "        y_inc = y_inc_list[j]\n",
        "        y_max = y_max_list[j]\n",
        "   \n",
        "    \n",
        "        # Manually define bin_edges to make histogram look nicer\n",
        "        bin_edges = np.arange(0, x_max+x_inc, x_inc)\n",
        "        plt.hist(data = df_1, x = col, bins = bin_edges,\n",
        "                 weights = np.ones(df_1.shape[0])/ df_1.shape[0])\n",
        "        # Further customisation to make histogram look better\n",
        "        sns.set(style=\"ticks\")\n",
        "        sns.despine(right=True,top=True)\n",
        "        plt.gca().yaxis.set_major_formatter(PercentFormatter(1))\n",
        "        # Enhance plot if additional arguments were pased to function\n",
        "        plt.yticks(np.arange(0, y_max+y_inc, y_inc))\n",
        "        plt.xticks(np.arange(0, x_max + x_inc, x_inc))\n",
        "        plt.title('Distribution of '+title_list[j]+' for Churned Users')\n",
        "        plt.xlabel(title_list[j])\n",
        "        plt.tight_layout()\n",
        "        # Save plot as figure\n",
        "        plt.savefig('sparkify_num_feature_comparison'+str(i+1)+'.png', dpi = 300)\n",
        "\n",
        "        # Plot for second group \n",
        "        plt.subplot(num_rows, 2, i+2)\n",
        "            \n",
        "         # Use bin_edges, if available\n",
        "        plt.hist(data = df_2, x = col, bins = bin_edges,\n",
        "                 weights = np.ones(df_2.shape[0])/ df_2.shape[0])\n",
        "        # Further customisation to make histogram look better\n",
        "        sns.set(style=\"ticks\")\n",
        "        sns.despine(right=True,top=True)\n",
        "        plt.gca().yaxis.set_major_formatter(PercentFormatter(1))\n",
        "        # Enhance plot if additional arguments were pased to function\n",
        "        plt.yticks(np.arange(0, y_max+y_inc, y_inc))\n",
        "        plt.xticks(np.arange(0, x_max + x_inc, x_inc))\n",
        "        plt.title('Distribution of '+title_list[j]+'for Non-Churned Users')\n",
        "        plt.xlabel(title_list[j])\n",
        "        plt.tight_layout()\n",
        "        \n",
        "        plt.savefig('sparkify_num_feature_comparison'+str(i+2)+'.png', dpi = 300)\n",
        "        \n",
        "        # Increment subplots counter\n",
        "        i+=2\n",
        "        # Increment list counter\n",
        "        j+=1"
      ],
      "execution_count": 25,
      "outputs": []
    },
    {
      "cell_type": "code",
      "metadata": {
        "id": "zbCFMPfeOsd1",
        "colab_type": "code",
        "colab": {
          "base_uri": "https://localhost:8080/",
          "height": 1000
        },
        "outputId": "1017ec4b-d99d-4646-e3f7-abd7b6d6f31b"
      },
      "source": [
        "cols_analysis = ['userId','sessions_num','dist_num_artists','avg_session_lgth','song_avg_session','home_avg_session', \n",
        "                 'thumbs_up_avg_session', 'thumbs_down_avg_session', 'add_playlist_avg_session', 'add_friend_avg_session', \n",
        "                 'settings_avg_session', 'help_avg_session', 'error_avg_session', 'usage_length', 'state', 'gender']\n",
        "churned_df = user_log.filter(user_log.churned == 1).select(*cols_analysis).dropDuplicates().toPandas()\n",
        "not_churned_df = user_log.filter(user_log.churned == 0).select(*cols_analysis).dropDuplicates().toPandas()\n",
        "# Plot the most interesting columns as identified above by inspecting median, mean and standard deviation values\n",
        "cols_1 = ['sessions_num','dist_num_artists', 'usage_length', 'avg_session_lgth', 'song_avg_session']\n",
        "title_list_num = ['Number of Sessions', 'Distinct Number of Artists', 'Usage Length', 'Average Session Length',\n",
        "                  'Average Number of Songs Per Session']\n",
        "x_incs_1 = [10, 200, 20, 50, 20]\n",
        "y_max_1 = [0.6, 0.3, 0.5, 0.2, 0.2]\n",
        "y_incs_1 = [0.1, 0.1, 0.1, 0.1, 0.1]\n",
        "plot_features(cols_1, 5, churned_df, not_churned_df, x_inc_list = x_incs_1, y_max_list = y_max_1, y_inc_list = y_incs_1,\n",
        "              title_list = title_list_num)"
      ],
      "execution_count": 30,
      "outputs": [
        {
          "output_type": "display_data",
          "data": {
            "image/png": "[encoded data removed]",
            "text/plain": [
              "<Figure size 1440x1440 with 10 Axes>"
            ]
          },
          "metadata": {
            "tags": []
          }
        }
      ]
    },
    {
      "cell_type": "markdown",
      "metadata": {
        "id": "KY3sWSiCOt1G",
        "colab_type": "text"
      },
      "source": [
        "#### Visualization"
      ]
    },
    {
      "cell_type": "code",
      "metadata": {
        "id": "Fwe923bIOyUR",
        "colab_type": "code",
        "colab": {
          "base_uri": "https://localhost:8080/",
          "height": 580
        },
        "outputId": "57a27009-e47f-4297-9ae1-9662a7888554"
      },
      "source": [
        "y_max_list = [0.6, 0.16]\n",
        "y_inc_list = [0.1, 0.02]\n",
        "qual_cols = ['gender', 'state']\n",
        "title_list = ['Gender', 'Location (State)']\n",
        "base_colour = sns.color_palette()[0]\n",
        "j = 0\n",
        "plt.figure(figsize = (15,8));\n",
        "for i in range(2):\n",
        "    y_max = y_max_list[i]\n",
        "    y_inc = y_inc_list[i]\n",
        "    col = qual_cols[i]\n",
        "    title_colname = title_list[i] \n",
        "    \n",
        "    plt.subplot(2, 2, j+1)\n",
        "    plt.title(title_colname + ' Distribution for Churned Users')\n",
        "    churned_df[col].value_counts(normalize = True).plot.bar(x = 'index', y = 'counts', color = sns.color_palette()[0])\n",
        "    sns.set(style=\"ticks\")\n",
        "    sns.despine(right=True,top=True)\n",
        "    plt.yticks(np.arange(0, y_max+y_inc, y_inc))\n",
        "    plt.xlabel(title_list[i])\n",
        "    plt.gca().yaxis.set_major_formatter(PercentFormatter(1))\n",
        "    plt.tight_layout()\n",
        "    # Save figure as file\n",
        "    plt.savefig('sparkify_cat_feature_comparison'+str(j+1)+'.png', dpi = 300)\n",
        "    \n",
        "    plt.subplot(2, 2, j+2)\n",
        "    plt.title(title_colname + ' Distribution for Non-Churned Users')\n",
        "    not_churned_df[col].value_counts(normalize = True).plot.bar(x = 'index', y = 'counts', color = sns.color_palette()[0])\n",
        "    sns.set(style=\"ticks\")\n",
        "    sns.despine(right=True,top=True)\n",
        "    plt.yticks(np.arange(0, y_max+y_inc, y_inc))\n",
        "    plt.xlabel(title_list[i])\n",
        "    plt.gca().yaxis.set_major_formatter(PercentFormatter(1))\n",
        "    plt.tight_layout()\n",
        "    # Save figure as file\n",
        "    plt.savefig('sparkify_feature_comparison'+str(j+2)+'.png', dpi = 300)\n",
        "    j+=2"
      ],
      "execution_count": 31,
      "outputs": [
        {
          "output_type": "display_data",
          "data": {
            "image/png": "[encoded data removed]",
            "text/plain": [
              "<Figure size 1080x576 with 4 Axes>"
            ]
          },
          "metadata": {
            "tags": []
          }
        }
      ]
    },
    {
      "cell_type": "markdown",
      "metadata": {
        "id": "iQWayxRHO_Bv",
        "colab_type": "text"
      },
      "source": [
        "# Data Preprocessing"
      ]
    },
    {
      "cell_type": "markdown",
      "metadata": {
        "id": "3eUBP1i-PBpj",
        "colab_type": "text"
      },
      "source": [
        "## Identifying Class Imbalance"
      ]
    },
    {
      "cell_type": "code",
      "metadata": {
        "id": "XL-eusSWPHaB",
        "colab_type": "code",
        "colab": {}
      },
      "source": [
        "# Reduce data to what we need for our machine learning algorithm\n",
        "cols_keep = ['userId', 'sessions_num','dist_num_artists', 'usage_length', 'avg_session_lgth', 'song_avg_session','gender',\n",
        "             'state', 'churned']\n",
        "model_data = user_log.select(*cols_keep).dropDuplicates()"
      ],
      "execution_count": 32,
      "outputs": []
    },
    {
      "cell_type": "code",
      "metadata": {
        "id": "7sS8oo2UPId7",
        "colab_type": "code",
        "colab": {
          "base_uri": "https://localhost:8080/",
          "height": 52
        },
        "outputId": "20c4a289-c083-41ad-be3e-a7d7d8ddb205"
      },
      "source": [
        "model_data.head()"
      ],
      "execution_count": 33,
      "outputs": [
        {
          "output_type": "execute_result",
          "data": {
            "text/plain": [
              "Row(userId='200002', sessions_num=6, dist_num_artists=330, usage_length=70.07462962962963, avg_session_lgth=266.39999999999986, song_avg_session=64.5, gender='M', state='WI', churned=0)"
            ]
          },
          "metadata": {
            "tags": []
          },
          "execution_count": 33
        }
      ]
    },
    {
      "cell_type": "markdown",
      "metadata": {
        "id": "HQ2tFJTKPMcq",
        "colab_type": "text"
      },
      "source": [
        "## Removing Outliers"
      ]
    },
    {
      "cell_type": "code",
      "metadata": {
        "id": "KY3lkclaPRcT",
        "colab_type": "code",
        "colab": {
          "base_uri": "https://localhost:8080/",
          "height": 52
        },
        "outputId": "0b459c2e-8bfc-44cd-a242-90111ef56a3c"
      },
      "source": [
        "numerical_cols = ['sessions_num','dist_num_artists', 'usage_length', 'avg_session_lgth', 'song_avg_session']\n",
        "bounds = {\n",
        "    column: dict(\n",
        "        zip([\"q1\", \"q3\"], model_data.approxQuantile(column, [0.25, 0.75], 0))\n",
        "    )\n",
        "    for column in numerical_cols\n",
        "}\n",
        "\n",
        "# Print the derived bounds\n",
        "for column in bounds:\n",
        "    iqr = bounds[column]['q3'] - bounds[column]['q1']\n",
        "    bounds[column]['lower'] = bounds[column]['q1'] - (iqr * 1.5)\n",
        "    bounds[column]['upper'] = bounds[column]['q3'] + (iqr * 1.5)\n",
        "print(bounds)"
      ],
      "execution_count": 34,
      "outputs": [
        {
          "output_type": "stream",
          "text": [
            "{'sessions_num': {'q1': 6.0, 'q3': 18.0, 'lower': -12.0, 'upper': 36.0}, 'dist_num_artists': {'q1': 208.0, 'q3': 1089.0, 'lower': -1113.5, 'upper': 2410.5}, 'usage_length': {'q1': 59.125856481481485, 'q3': 100.3783912037037, 'lower': -2.7529456018518417, 'upper': 162.257193287037}, 'avg_session_lgth': {'q1': 161.37708333333367, 'q3': 381.48333333333306, 'lower': -168.78229166666543, 'upper': 711.6427083333322}, 'song_avg_session': {'q1': 35.857142857142854, 'q3': 91.71428571428571, 'lower': -47.92857142857142, 'upper': 175.5}}\n"
          ],
          "name": "stdout"
        }
      ]
    },
    {
      "cell_type": "code",
      "metadata": {
        "id": "Aq9xsFzJPUMv",
        "colab_type": "code",
        "colab": {
          "base_uri": "https://localhost:8080/",
          "height": 98
        },
        "outputId": "29745aa8-c30f-4f35-bc62-0b73b8a23889"
      },
      "source": [
        "# Drop all rows where at least one feature has a value above the upper threshold\n",
        "for column in bounds:\n",
        "    upper = bounds[column]['upper']\n",
        "    model_data = model_data.filter(model_data[column] <= upper)\n",
        "    print(model_data.count())"
      ],
      "execution_count": 35,
      "outputs": [
        {
          "output_type": "stream",
          "text": [
            "214\n",
            "214\n",
            "208\n",
            "202\n",
            "202\n"
          ],
          "name": "stdout"
        }
      ]
    },
    {
      "cell_type": "markdown",
      "metadata": {
        "id": "5ffy05UjPOSv",
        "colab_type": "text"
      },
      "source": [
        "## Scaling\n"
      ]
    },
    {
      "cell_type": "code",
      "metadata": {
        "id": "d2GTHG95PWq9",
        "colab_type": "code",
        "colab": {}
      },
      "source": [
        "# Create stages list to subsequently call stages when using an ML pipeline later on\n",
        "stages = []\n",
        "# Scale numerical features using StandardScaler\n",
        "assembler_numerical = VectorAssembler(inputCols = numerical_cols, outputCol = 'num_features')\n",
        "stages += [assembler_numerical]\n",
        "minmax_scale = MinMaxScaler(inputCol = 'num_features', outputCol= 'num_features_scaled')\n",
        "stages += [minmax_scale]"
      ],
      "execution_count": 39,
      "outputs": []
    },
    {
      "cell_type": "markdown",
      "metadata": {
        "id": "L0PDtFZAPXhe",
        "colab_type": "text"
      },
      "source": [
        "## One-hot Encoding"
      ]
    },
    {
      "cell_type": "code",
      "metadata": {
        "id": "ZJLG4yjvPbs_",
        "colab_type": "code",
        "colab": {}
      },
      "source": [
        "for categoricalCol in ['gender','state']:\n",
        "    # Use StringIndexer to first index categorical columns\n",
        "    # In order to ensure consistency in the indexing use alphabetDesc for ordering\n",
        "    si = StringIndexer(inputCol = categoricalCol, outputCol = categoricalCol+'_code', stringOrderType = 'alphabetDesc')\n",
        "    ohe = OneHotEncoder(inputCols = [si.getOutputCol()], outputCols=[categoricalCol+'_classVec'])\n",
        "    stages += [si, ohe]"
      ],
      "execution_count": 41,
      "outputs": []
    },
    {
      "cell_type": "markdown",
      "metadata": {
        "id": "X9__jUw6PfnC",
        "colab_type": "text"
      },
      "source": [
        "## Transforming & Collecting Data"
      ]
    },
    {
      "cell_type": "code",
      "metadata": {
        "id": "r6lL9DwtPiuk",
        "colab_type": "code",
        "colab": {}
      },
      "source": [
        "feature_cols = ['num_features_scaled', 'gender_classVec', 'state_classVec']\n",
        "assembler = VectorAssembler(inputCols = feature_cols, outputCol = 'features')\n",
        "stages += [assembler]\n",
        "# Take care of label column churned using StringIndexer\n",
        "label_indexer = StringIndexer(inputCol= 'churned', outputCol = 'label')\n",
        "stages += [label_indexer]"
      ],
      "execution_count": 42,
      "outputs": []
    },
    {
      "cell_type": "code",
      "metadata": {
        "id": "g5hmvrvvPky_",
        "colab_type": "code",
        "colab": {}
      },
      "source": [
        "\n",
        "# Convert the stages contained in list into a pipeline, fit and apply the pipeline to obtain the converted data\n",
        "data_prep_pipeline = Pipeline().setStages(stages) \n",
        "data_prep_model = data_prep_pipeline.fit(model_data)\n",
        "model_data_prep = data_prep_model.transform(model_data)"
      ],
      "execution_count": 45,
      "outputs": []
    },
    {
      "cell_type": "markdown",
      "metadata": {
        "id": "shcUXMhoPnpg",
        "colab_type": "text"
      },
      "source": [
        "## Train/test split"
      ]
    },
    {
      "cell_type": "code",
      "metadata": {
        "id": "jwvyWxfBPqkE",
        "colab_type": "code",
        "colab": {}
      },
      "source": [
        "train, test = model_data_prep.randomSplit([0.7, 0.3], seed = 42)"
      ],
      "execution_count": 47,
      "outputs": []
    },
    {
      "cell_type": "markdown",
      "metadata": {
        "id": "PVXInshiP8tU",
        "colab_type": "text"
      },
      "source": [
        "# Model Selection"
      ]
    },
    {
      "cell_type": "code",
      "metadata": {
        "id": "85yYIIpxP-Zm",
        "colab_type": "code",
        "colab": {}
      },
      "source": [
        "lr =  LogisticRegression()\n",
        "\n",
        "paramGrid = ParamGridBuilder() \\\n",
        "    .addGrid(lr.elasticNetParam, [0,1]) \\\n",
        "    .addGrid(lr.regParam, [0, 0.1]) \\\n",
        "    .build()\n",
        "\n",
        "crossval = CrossValidator(estimator=lr,\n",
        "                          estimatorParamMaps=paramGrid,\n",
        "                          evaluator=BinaryClassificationEvaluator(),\n",
        "                          numFolds=3)\n",
        "lr_model = crossval.fit(train)\n",
        "results_lr_train = lr_model.transform(train)\n",
        "results_lr_test = lr_model.transform(test)\n",
        "\n",
        "\n",
        "rf = RandomForestClassifier()\n",
        "\n",
        "paramGrid = ParamGridBuilder() \\\n",
        "    .addGrid(rf.numTrees, [50, 100]) \\\n",
        "    .addGrid(rf.maxDepth, [5, 10]) \\\n",
        "    .build()\n",
        "\n",
        "crossval = CrossValidator(estimator=rf,\n",
        "                          estimatorParamMaps=paramGrid,\n",
        "                          evaluator=BinaryClassificationEvaluator(),\n",
        "                          numFolds=3)\n",
        "rf_model = crossval.fit(train)\n",
        "results_rf_train = rf_model.transform(train)\n",
        "results_rf_test = rf_model.transform(test)\n",
        "\n",
        "gbt = GBTClassifier()\n",
        "\n",
        "paramGrid = ParamGridBuilder() \\\n",
        "    .addGrid(gbt.maxIter, [10, 30]) \\\n",
        "    .addGrid(gbt.maxDepth, [5, 10]) \\\n",
        "    .build()\n",
        "\n",
        "crossval = CrossValidator(estimator=gbt,\n",
        "                          estimatorParamMaps=paramGrid,\n",
        "                          evaluator=BinaryClassificationEvaluator(),\n",
        "                          numFolds=3)\n",
        "gbt_model = crossval.fit(train)\n",
        "results_gbt_train = gbt_model.transform(train)\n",
        "results_gbt_test = gbt_model.transform(test)"
      ],
      "execution_count": null,
      "outputs": []
    },
    {
      "cell_type": "code",
      "metadata": {
        "colab_type": "code",
        "id": "nu2IqzF0RcQF",
        "colab": {}
      },
      "source": [
        "def calculate_f1(results):\n",
        "    \"\"\"Given a table of pyspark.ml.model.transform results, the function calculates and returns the F1 score.\"\"\"\n",
        "    true_positives = results.filter(\"label = 1 and prediction = 1\").count()\n",
        "    false_positives = results.filter(\"label = 0 and prediction = 1\").count()\n",
        "    false_negatives = results.filter(\"label = 1 and prediction = 0\").count()\n",
        "    precision = true_positives / (true_positives + false_positives) \n",
        "    recall = true_positives / (true_positives + false_negatives)\n",
        "    f1 = 2 * precision * recall / (precision + recall)\n",
        "    \n",
        "    return f1\n",
        "    \n",
        "results_df = pd.DataFrame({'score': [calculate_f1(results_lr_train), calculate_f1(results_rf_train),\n",
        "                                      calculate_f1(results_gbt_train), calculate_f1(results_lr_test),\n",
        "                                      calculate_f1(results_rf_test), calculate_f1(results_gbt_test)],\n",
        "                           'dataset': ['Train', 'Train', 'Train', 'Test', 'Test', 'Test'],\n",
        "                           'model': ['LogisticRegression', 'RandomForest', 'GradientBoosting',\n",
        "                                     'LogisticRegression', 'RandomForest', 'GradientBoosting']})"
      ],
      "execution_count": null,
      "outputs": []
    },
    {
      "cell_type": "code",
      "metadata": {
        "colab_type": "code",
        "id": "2GF_Z1D2RcQL",
        "colab": {},
        "outputId": "65a82f00-01df-4177-c200-a8e30ffbcc2b"
      },
      "source": [
        "plt.figure(figsize=(15,10))\n",
        "sns.barplot(x='model', y='score', hue='dataset', data=results_df)\n",
        "plt.title('F1 scores')\n",
        "plt.show()"
      ],
      "execution_count": null,
      "outputs": [
        {
          "output_type": "display_data",
          "data": {
            "image/png": "[encoded data removed]",
            "text/plain": [
              "<matplotlib.figure.Figure at 0x7f759588c630>"
            ]
          },
          "metadata": {
            "tags": [],
            "needs_background": "light"
          }
        }
      ]
    },
    {
      "cell_type": "code",
      "metadata": {
        "colab_type": "code",
        "id": "VgVlyegKSyde",
        "colab": {},
        "outputId": "5c61a31c-3a87-48c7-ea87-030528ba0eee"
      },
      "source": [
        "print('F1 score in Logistic Regression model in trainset: ',  calculate_f1(results_lr_train))\n",
        "print('F1 score in Logistic Regression model in testset: ', calculate_f1(results_lr_test))\n",
        "print('F1 score in Random Forest model in trainset: ', calculate_f1(results_rf_train))\n",
        "print('F1 score in Random Forest model in testset: ', calculate_f1(results_rf_test))\n",
        "print('F1 score in Gradient Boosting model in trainset: ', calculate_f1(results_gbt_train))\n",
        "print('F1 score in Gradient Boosting model in testset: ', calculate_f1(results_gbt_test))"
      ],
      "execution_count": null,
      "outputs": [
        {
          "output_type": "stream",
          "text": [
            "F1 score in Logistic Regression model in trainset:  0.36065573770491804\n",
            "F1 score in Logistic Regression model in testset:  0.375\n",
            "F1 score in Random Forest model in trainset:  0.9113924050632911\n",
            "F1 score in Random Forest model in testset:  0.16666666666666666\n",
            "F1 score in Gradient Boosting model in trainset:  1.0\n",
            "F1 score in Gradient Boosting model in testset:  0.6\n"
          ],
          "name": "stdout"
        }
      ]
    },
    {
      "cell_type": "markdown",
      "metadata": {
        "id": "NUwdJ_ALS2WD",
        "colab_type": "text"
      },
      "source": [
        "## Hyperparameter Tuning"
      ]
    },
    {
      "cell_type": "code",
      "metadata": {
        "colab_type": "code",
        "id": "54oURyEeSydh",
        "colab": {}
      },
      "source": [
        "gbt = GBTClassifier()\n",
        "\n",
        "paramGrid = ParamGridBuilder() \\\n",
        "    .addGrid(gbt.maxIter, np.arange(10, 30, 10)) \\\n",
        "    .addGrid(gbt.maxDepth, np.arange(3, 7, 1)) \\\n",
        "    .addGrid(gbt.minInstancesPerNode, [1, 10, 20]) \\\n",
        "    .build()\n",
        "\n",
        "crossval = CrossValidator(estimator=gbt,\n",
        "                          estimatorParamMaps=paramGrid,\n",
        "                          evaluator=BinaryClassificationEvaluator(),\n",
        "                          numFolds=5)\n",
        "gbt_model_refined = crossval.fit(train)\n",
        "results_gbt = gbt_model_refined.transform(test)\n",
        "results_gbt_tr = gbt_model_refined.transform(train)"
      ],
      "execution_count": null,
      "outputs": []
    },
    {
      "cell_type": "code",
      "metadata": {
        "colab_type": "code",
        "id": "_esCCP-HSydj",
        "colab": {},
        "outputId": "3e9961dc-afc1-400d-96dc-9e4c7c113fb6"
      },
      "source": [
        "print('F1 score in Gradient Boosting model in trainset: ', calculate_f1(results_gbt_tr))\n",
        "print('F1 score in Gradient Boosting model in testset: ', calculate_f1(results_gbt))"
      ],
      "execution_count": null,
      "outputs": [
        {
          "output_type": "stream",
          "text": [
            "F1 score in Gradient Boosting model in trainset:  0.8\n",
            "F1 score in Gradient Boosting model in testset:  0.4800000000000001\n"
          ],
          "name": "stdout"
        }
      ]
    },
    {
      "cell_type": "code",
      "metadata": {
        "colab_type": "code",
        "id": "xtuWjTjySydk",
        "colab": {},
        "outputId": "e4b184f2-9a97-46c5-a46e-ba6a657327aa"
      },
      "source": [
        "results_df = pd.DataFrame({'score': [calculate_f1(results_gbt_tr), calculate_f1(results_gbt)],\n",
        "                           'dataset': ['Train', 'Test']})\n",
        "plt.figure(figsize=(7,5))\n",
        "sns.barplot(x='dataset', y='score', data=results_df)\n",
        "plt.title('Gradient Boosting F1 score')\n",
        "plt.show()"
      ],
      "execution_count": null,
      "outputs": [
        {
          "output_type": "display_data",
          "data": {
            "image/png": "[encoded data removed]",
            "text/plain": [
              "<matplotlib.figure.Figure at 0x7f758f7f3dd8>"
            ]
          },
          "metadata": {
            "tags": [],
            "needs_background": "light"
          }
        }
      ]
    },
    {
      "cell_type": "markdown",
      "metadata": {
        "id": "r6e0fdrbTWw5",
        "colab_type": "text"
      },
      "source": [
        "## Feature Importance"
      ]
    },
    {
      "cell_type": "code",
      "metadata": {
        "id": "L1Wik77gTYoI",
        "colab_type": "code",
        "colab": {}
      },
      "source": [
        "feature_importances_df = pd.DataFrame(gbt_model.featureImportances.toArray())\n",
        "feature_importances_df['index'] = feature_importances_df.index\n",
        "# Rename column containing feature importances\n",
        "feature_importances_df = feature_importances_df.rename(columns = {0:'feature_importance'})\n",
        "feature_importances_df = feature_importances_df.sort_values(by = 'feature_importance', ascending = False)\n",
        "# Reset the index of the feature_importances dataframe\n",
        "feature_importances_df = feature_importances_df.reset_index(drop = True)\n",
        "# obtain a dictionary with names for feature importances\n",
        "features_df = pd.DataFrame(train.schema[\"features\"].metadata[\"ml_attr\"] \n",
        "[\"attrs\"][\"binary\"]+train.schema[\"features\"].metadata[\"ml_attr\"][\"attrs\"][\"numeric\"]).sort_values(\"idx\")\n",
        "# adjust names of numerical features using replace and a dictionary\n",
        "numerical_feat_dict = {'num_features_scaled_0':numerical_cols[0],'num_features_scaled_1':numerical_cols[1],\n",
        "                      'num_features_scaled_2':numerical_cols[2], 'num_features_scaled_3':numerical_cols[3],\n",
        "                      'num_features_scaled_4':numerical_cols[4]}\n",
        "features_df['name'] = features_df['name'].replace(numerical_feat_dict)\n",
        "# Remove classVec in categorical feature names\n",
        "features_df['name'] = features_df['name'].str.replace('classVec_','')\n",
        "feature_dict = dict(zip(features_df[\"idx\"],features_df[\"name\"]))\n",
        "# Use this dictionary to add a column containing the feature names\n",
        "feature_importances_df['feature'] = feature_importances_df['index'].replace(feature_dict)\n",
        "# Add column with cumulative sum of feature importances to be used in plot\n",
        "feature_importances_df['cum_feat_importance'] = feature_importances_df['feature_importance'].cumsum()\n",
        "feature_importances_df.head()"
      ],
      "execution_count": null,
      "outputs": []
    },
    {
      "cell_type": "code",
      "metadata": {
        "id": "5uNN69DnUZGA",
        "colab_type": "code",
        "colab": {}
      },
      "source": [
        "gbt_model.bestModel.featureImportances"
      ],
      "execution_count": null,
      "outputs": []
    }
  ]
}